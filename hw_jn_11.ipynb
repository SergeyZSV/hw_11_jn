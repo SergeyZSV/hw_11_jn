{
 "cells": [
  {
   "cell_type": "markdown",
   "id": "363d8267",
   "metadata": {},
   "source": [
    "# Задание\n",
    "y = x**2 - 6*abs(x) + 8\n",
    "1. Определить корни\n",
    "2. Найти интервалы, на которых функция возрастает\n",
    "3. Найти интервалы, на которых функция убывает\n",
    "4. Построить график\n",
    "5. Вычислить вершину\n",
    "6. Определить промежутки, на котором f > 0\n",
    "7. Определить промежутки, на котором f < 0"
   ]
  },
  {
   "cell_type": "code",
   "execution_count": 12,
   "id": "dcf8f5ea",
   "metadata": {},
   "outputs": [],
   "source": [
    "import sympy as sm\n",
    "from sympy import Symbol, solve, diff, expand, nsolve, Derivative, exp, erf\n",
    "from sympy.plotting import plot"
   ]
  },
  {
   "cell_type": "code",
   "execution_count": 28,
   "id": "97530ecb",
   "metadata": {},
   "outputs": [],
   "source": [
    "x = Symbol('x', real=True)\n",
    "f = x*2 - 6*abs(x) + 8"
   ]
  },
  {
   "cell_type": "code",
   "execution_count": 3,
   "id": "0344824f",
   "metadata": {},
   "outputs": [
    {
     "data": {
      "text/latex": [
       "$\\displaystyle 2 x - 6 \\left|{x}\\right| + 8$"
      ],
      "text/plain": [
       "2*x - 6*Abs(x) + 8"
      ]
     },
     "execution_count": 3,
     "metadata": {},
     "output_type": "execute_result"
    }
   ],
   "source": [
    "f"
   ]
  },
  {
   "cell_type": "markdown",
   "id": "ebb61bf3",
   "metadata": {},
   "source": [
    "## Определить корни"
   ]
  },
  {
   "cell_type": "code",
   "execution_count": 4,
   "id": "94463b92",
   "metadata": {},
   "outputs": [
    {
     "name": "stdout",
     "output_type": "stream",
     "text": [
      "Количество корней: 2\n"
     ]
    }
   ],
   "source": [
    "print(f'Количество корней: {len(solve(f, x))}')"
   ]
  },
  {
   "cell_type": "code",
   "execution_count": 5,
   "id": "c09e0506",
   "metadata": {},
   "outputs": [],
   "source": [
    "x1 = solve(f, x)[0]\n",
    "x2 = solve(f, x)[1]"
   ]
  },
  {
   "cell_type": "code",
   "execution_count": 6,
   "id": "f44c4bc2",
   "metadata": {},
   "outputs": [
    {
     "data": {
      "text/plain": [
       "(-1, 2)"
      ]
     },
     "execution_count": 6,
     "metadata": {},
     "output_type": "execute_result"
    }
   ],
   "source": [
    "x1, x2"
   ]
  },
  {
   "cell_type": "markdown",
   "id": "91446ee6",
   "metadata": {},
   "source": [
    "## Найти интервалы, на которых функция возрастает"
   ]
  },
  {
   "cell_type": "markdown",
   "id": "3594a846",
   "metadata": {},
   "source": [
    "Производная функции:"
   ]
  },
  {
   "cell_type": "code",
   "execution_count": 31,
   "id": "7493dc69",
   "metadata": {},
   "outputs": [
    {
     "data": {
      "text/latex": [
       "$\\displaystyle 2 - 6 \\operatorname{sign}{\\left(x \\right)}$"
      ],
      "text/plain": [
       "2 - 6*sign(x)"
      ]
     },
     "execution_count": 31,
     "metadata": {},
     "output_type": "execute_result"
    }
   ],
   "source": [
    "f1 = diff(f)\n",
    "f1"
   ]
  },
  {
   "cell_type": "code",
   "execution_count": 32,
   "id": "55c9d465",
   "metadata": {},
   "outputs": [
    {
     "ename": "NotImplementedError",
     "evalue": "\nNo algorithms are implemented to solve equation 2 - 6*sign(x)",
     "output_type": "error",
     "traceback": [
      "\u001b[1;31m---------------------------------------------------------------------------\u001b[0m",
      "\u001b[1;31mNotImplementedError\u001b[0m                       Traceback (most recent call last)",
      "Input \u001b[1;32mIn [32]\u001b[0m, in \u001b[0;36m<cell line: 1>\u001b[1;34m()\u001b[0m\n\u001b[1;32m----> 1\u001b[0m \u001b[43msolve\u001b[49m\u001b[43m(\u001b[49m\u001b[43mf1\u001b[49m\u001b[43m,\u001b[49m\u001b[43m \u001b[49m\u001b[43mx\u001b[49m\u001b[43m)\u001b[49m\n",
      "File \u001b[1;32m~\\anaconda3\\lib\\site-packages\\sympy\\solvers\\solvers.py:1106\u001b[0m, in \u001b[0;36msolve\u001b[1;34m(f, *symbols, **flags)\u001b[0m\n\u001b[0;32m   1102\u001b[0m \u001b[38;5;66;03m#\u001b[39;00m\n\u001b[0;32m   1103\u001b[0m \u001b[38;5;66;03m# try to get a solution\u001b[39;00m\n\u001b[0;32m   1104\u001b[0m \u001b[38;5;66;03m###########################################################################\u001b[39;00m\n\u001b[0;32m   1105\u001b[0m \u001b[38;5;28;01mif\u001b[39;00m bare_f:\n\u001b[1;32m-> 1106\u001b[0m     solution \u001b[38;5;241m=\u001b[39m _solve(f[\u001b[38;5;241m0\u001b[39m], \u001b[38;5;241m*\u001b[39msymbols, \u001b[38;5;241m*\u001b[39m\u001b[38;5;241m*\u001b[39mflags)\n\u001b[0;32m   1107\u001b[0m \u001b[38;5;28;01melse\u001b[39;00m:\n\u001b[0;32m   1108\u001b[0m     solution \u001b[38;5;241m=\u001b[39m _solve_system(f, symbols, \u001b[38;5;241m*\u001b[39m\u001b[38;5;241m*\u001b[39mflags)\n",
      "File \u001b[1;32m~\\anaconda3\\lib\\site-packages\\sympy\\solvers\\solvers.py:1720\u001b[0m, in \u001b[0;36m_solve\u001b[1;34m(f, *symbols, **flags)\u001b[0m\n\u001b[0;32m   1717\u001b[0m \u001b[38;5;66;03m# ----------- end of fallback ----------------------------\u001b[39;00m\n\u001b[0;32m   1719\u001b[0m \u001b[38;5;28;01mif\u001b[39;00m result \u001b[38;5;129;01mis\u001b[39;00m \u001b[38;5;28;01mFalse\u001b[39;00m:\n\u001b[1;32m-> 1720\u001b[0m     \u001b[38;5;28;01mraise\u001b[39;00m \u001b[38;5;167;01mNotImplementedError\u001b[39;00m(\u001b[38;5;124m'\u001b[39m\u001b[38;5;130;01m\\n\u001b[39;00m\u001b[38;5;124m'\u001b[39m\u001b[38;5;241m.\u001b[39mjoin([msg, not_impl_msg \u001b[38;5;241m%\u001b[39m f]))\n\u001b[0;32m   1722\u001b[0m \u001b[38;5;28;01mif\u001b[39;00m flags\u001b[38;5;241m.\u001b[39mget(\u001b[38;5;124m'\u001b[39m\u001b[38;5;124msimplify\u001b[39m\u001b[38;5;124m'\u001b[39m, \u001b[38;5;28;01mTrue\u001b[39;00m):\n\u001b[0;32m   1723\u001b[0m     result \u001b[38;5;241m=\u001b[39m \u001b[38;5;28mlist\u001b[39m(\u001b[38;5;28mmap\u001b[39m(simplify, result))\n",
      "\u001b[1;31mNotImplementedError\u001b[0m: \nNo algorithms are implemented to solve equation 2 - 6*sign(x)"
     ]
    }
   ],
   "source": [
    "solve(f1, x)"
   ]
  },
  {
   "cell_type": "markdown",
   "id": "e3eb7d8c",
   "metadata": {},
   "source": [
    "## Найти интервалы, на которых функция убывает"
   ]
  },
  {
   "cell_type": "markdown",
   "id": "1ccb0c4c",
   "metadata": {},
   "source": [
    "## Построить график"
   ]
  },
  {
   "cell_type": "code",
   "execution_count": 23,
   "id": "69cacaad",
   "metadata": {},
   "outputs": [
    {
     "name": "stdout",
     "output_type": "stream",
     "text": [
      "График функции y = 2*x - 6*Abs(x) + 8:\n"
     ]
    },
    {
     "data": {
      "image/png": "[encoded data removed]",
      "text/plain": [
       "<Figure size 432x288 with 1 Axes>"
      ]
     },
     "metadata": {
      "needs_background": "light"
     },
     "output_type": "display_data"
    },
    {
     "name": "stdout",
     "output_type": "stream",
     "text": [
      "Plot object containing:\n",
      "[0]: cartesian line: 2*x - 6*Abs(x) + 8 for x over (-10.0, 10.0)\n"
     ]
    }
   ],
   "source": [
    "print(f'График функции y = {f}:')\n",
    "print(plot(f))"
   ]
  },
  {
   "cell_type": "markdown",
   "id": "d1ecaf2b",
   "metadata": {},
   "source": [
    "## Вычислить вершину"
   ]
  },
  {
   "cell_type": "markdown",
   "id": "60b2d228",
   "metadata": {},
   "source": [
    "## Определить промежутки, на котором f > 0"
   ]
  },
  {
   "cell_type": "code",
   "execution_count": 33,
   "id": "5405a3c5",
   "metadata": {},
   "outputs": [],
   "source": [
    "from random import uniform"
   ]
  },
  {
   "cell_type": "code",
   "execution_count": 36,
   "id": "6ca503da",
   "metadata": {},
   "outputs": [
    {
     "data": {
      "text/latex": [
       "$\\displaystyle -8.79115145734453$"
      ],
      "text/plain": [
       "-8.79115145734453"
      ]
     },
     "execution_count": 36,
     "metadata": {},
     "output_type": "execute_result"
    }
   ],
   "source": [
    "check = uniform(x1-10, x1)\n",
    "check"
   ]
  },
  {
   "cell_type": "code",
   "execution_count": 35,
   "id": "302df23b",
   "metadata": {},
   "outputs": [
    {
     "data": {
      "text/latex": [
       "$\\displaystyle -0.584217470042314$"
      ],
      "text/plain": [
       "-0.584217470042314"
      ]
     },
     "execution_count": 35,
     "metadata": {},
     "output_type": "execute_result"
    }
   ],
   "source": [
    "check = uniform(x1, x2)\n",
    "check"
   ]
  },
  {
   "cell_type": "code",
   "execution_count": 34,
   "id": "6ef511f3",
   "metadata": {},
   "outputs": [
    {
     "data": {
      "text/latex": [
       "$\\displaystyle 10.9648132871057$"
      ],
      "text/plain": [
       "10.9648132871057"
      ]
     },
     "execution_count": 34,
     "metadata": {},
     "output_type": "execute_result"
    }
   ],
   "source": [
    "check = uniform(x2, x2+10)\n",
    "check"
   ]
  },
  {
   "cell_type": "markdown",
   "id": "b713bfa0",
   "metadata": {},
   "source": [
    "Функция больше нуля от 2 до +oo."
   ]
  },
  {
   "cell_type": "markdown",
   "id": "5e24f399",
   "metadata": {},
   "source": [
    "## Определить промежутки, на котором f < 0"
   ]
  },
  {
   "cell_type": "markdown",
   "id": "fd7d0f56",
   "metadata": {},
   "source": [
    "Функция меньше нуля от -оо до 2."
   ]
  }
 ],
 "metadata": {
  "kernelspec": {
   "display_name": "Python 3 (ipykernel)",
   "language": "python",
   "name": "python3"
  },
  "language_info": {
   "codemirror_mode": {
    "name": "ipython",
    "version": 3
   },
   "file_extension": ".py",
   "mimetype": "text/x-python",
   "name": "python",
   "nbconvert_exporter": "python",
   "pygments_lexer": "ipython3",
   "version": "3.9.12"
  }
 },
 "nbformat": 4,
 "nbformat_minor": 5
}
